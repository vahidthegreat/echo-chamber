{
  "nbformat": 4,
  "nbformat_minor": 0,
  "metadata": {
    "colab": {
      "provenance": []
    },
    "kernelspec": {
      "name": "python3",
      "display_name": "Python 3"
    },
    "language_info": {
      "name": "python"
    },
    "gpuClass": "standard",
    "widgets": {
      "application/vnd.jupyter.widget-state+json": {
        "7c59ea93e231466593358bd4133b34fb": {
          "model_module": "@jupyter-widgets/controls",
          "model_name": "HBoxModel",
          "model_module_version": "1.5.0",
          "state": {
            "_dom_classes": [],
            "_model_module": "@jupyter-widgets/controls",
            "_model_module_version": "1.5.0",
            "_model_name": "HBoxModel",
            "_view_count": null,
            "_view_module": "@jupyter-widgets/controls",
            "_view_module_version": "1.5.0",
            "_view_name": "HBoxView",
            "box_style": "",
            "children": [
              "IPY_MODEL_a9968b2cf0264600b42cd988784641dd",
              "IPY_MODEL_b28e46db8cd44446a187bddd14856f80",
              "IPY_MODEL_460c04213f78479eb127eb411c9fbc1a"
            ],
            "layout": "IPY_MODEL_737818b8f93546ca953f4d6190bf8cdb"
          }
        },
        "a9968b2cf0264600b42cd988784641dd": {
          "model_module": "@jupyter-widgets/controls",
          "model_name": "HTMLModel",
          "model_module_version": "1.5.0",
          "state": {
            "_dom_classes": [],
            "_model_module": "@jupyter-widgets/controls",
            "_model_module_version": "1.5.0",
            "_model_name": "HTMLModel",
            "_view_count": null,
            "_view_module": "@jupyter-widgets/controls",
            "_view_module_version": "1.5.0",
            "_view_name": "HTMLView",
            "description": "",
            "description_tooltip": null,
            "layout": "IPY_MODEL_f9405bb70440479797e4ea4c6902b4e4",
            "placeholder": "​",
            "style": "IPY_MODEL_2936ae029b144e759616ba7596c2eb7a",
            "value": "Epochs completed: 100%| "
          }
        },
        "b28e46db8cd44446a187bddd14856f80": {
          "model_module": "@jupyter-widgets/controls",
          "model_name": "FloatProgressModel",
          "model_module_version": "1.5.0",
          "state": {
            "_dom_classes": [],
            "_model_module": "@jupyter-widgets/controls",
            "_model_module_version": "1.5.0",
            "_model_name": "FloatProgressModel",
            "_view_count": null,
            "_view_module": "@jupyter-widgets/controls",
            "_view_module_version": "1.5.0",
            "_view_name": "ProgressView",
            "bar_style": "success",
            "description": "",
            "description_tooltip": null,
            "layout": "IPY_MODEL_2f87c6f8062d439cbe21d993cce8e5e4",
            "max": 500,
            "min": 0,
            "orientation": "horizontal",
            "style": "IPY_MODEL_5f30d9fa36d64a0387176f4eb93a32c0",
            "value": 500
          }
        },
        "460c04213f78479eb127eb411c9fbc1a": {
          "model_module": "@jupyter-widgets/controls",
          "model_name": "HTMLModel",
          "model_module_version": "1.5.0",
          "state": {
            "_dom_classes": [],
            "_model_module": "@jupyter-widgets/controls",
            "_model_module_version": "1.5.0",
            "_model_name": "HTMLModel",
            "_view_count": null,
            "_view_module": "@jupyter-widgets/controls",
            "_view_module_version": "1.5.0",
            "_view_name": "HTMLView",
            "description": "",
            "description_tooltip": null,
            "layout": "IPY_MODEL_8a6b80d3094a46398ff6f664aa12a74d",
            "placeholder": "​",
            "style": "IPY_MODEL_9912e08c1cc543169b6a9cf0414ae8e1",
            "value": " 500/500 [00:03]"
          }
        },
        "737818b8f93546ca953f4d6190bf8cdb": {
          "model_module": "@jupyter-widgets/base",
          "model_name": "LayoutModel",
          "model_module_version": "1.2.0",
          "state": {
            "_model_module": "@jupyter-widgets/base",
            "_model_module_version": "1.2.0",
            "_model_name": "LayoutModel",
            "_view_count": null,
            "_view_module": "@jupyter-widgets/base",
            "_view_module_version": "1.2.0",
            "_view_name": "LayoutView",
            "align_content": null,
            "align_items": null,
            "align_self": null,
            "border": null,
            "bottom": null,
            "display": null,
            "flex": null,
            "flex_flow": null,
            "grid_area": null,
            "grid_auto_columns": null,
            "grid_auto_flow": null,
            "grid_auto_rows": null,
            "grid_column": null,
            "grid_gap": null,
            "grid_row": null,
            "grid_template_areas": null,
            "grid_template_columns": null,
            "grid_template_rows": null,
            "height": null,
            "justify_content": null,
            "justify_items": null,
            "left": null,
            "margin": null,
            "max_height": null,
            "max_width": null,
            "min_height": null,
            "min_width": null,
            "object_fit": null,
            "object_position": null,
            "order": null,
            "overflow": null,
            "overflow_x": null,
            "overflow_y": null,
            "padding": null,
            "right": null,
            "top": null,
            "visibility": null,
            "width": null
          }
        },
        "f9405bb70440479797e4ea4c6902b4e4": {
          "model_module": "@jupyter-widgets/base",
          "model_name": "LayoutModel",
          "model_module_version": "1.2.0",
          "state": {
            "_model_module": "@jupyter-widgets/base",
            "_model_module_version": "1.2.0",
            "_model_name": "LayoutModel",
            "_view_count": null,
            "_view_module": "@jupyter-widgets/base",
            "_view_module_version": "1.2.0",
            "_view_name": "LayoutView",
            "align_content": null,
            "align_items": null,
            "align_self": null,
            "border": null,
            "bottom": null,
            "display": null,
            "flex": null,
            "flex_flow": null,
            "grid_area": null,
            "grid_auto_columns": null,
            "grid_auto_flow": null,
            "grid_auto_rows": null,
            "grid_column": null,
            "grid_gap": null,
            "grid_row": null,
            "grid_template_areas": null,
            "grid_template_columns": null,
            "grid_template_rows": null,
            "height": null,
            "justify_content": null,
            "justify_items": null,
            "left": null,
            "margin": null,
            "max_height": null,
            "max_width": null,
            "min_height": null,
            "min_width": null,
            "object_fit": null,
            "object_position": null,
            "order": null,
            "overflow": null,
            "overflow_x": null,
            "overflow_y": null,
            "padding": null,
            "right": null,
            "top": null,
            "visibility": null,
            "width": null
          }
        },
        "2936ae029b144e759616ba7596c2eb7a": {
          "model_module": "@jupyter-widgets/controls",
          "model_name": "DescriptionStyleModel",
          "model_module_version": "1.5.0",
          "state": {
            "_model_module": "@jupyter-widgets/controls",
            "_model_module_version": "1.5.0",
            "_model_name": "DescriptionStyleModel",
            "_view_count": null,
            "_view_module": "@jupyter-widgets/base",
            "_view_module_version": "1.2.0",
            "_view_name": "StyleView",
            "description_width": ""
          }
        },
        "2f87c6f8062d439cbe21d993cce8e5e4": {
          "model_module": "@jupyter-widgets/base",
          "model_name": "LayoutModel",
          "model_module_version": "1.2.0",
          "state": {
            "_model_module": "@jupyter-widgets/base",
            "_model_module_version": "1.2.0",
            "_model_name": "LayoutModel",
            "_view_count": null,
            "_view_module": "@jupyter-widgets/base",
            "_view_module_version": "1.2.0",
            "_view_name": "LayoutView",
            "align_content": null,
            "align_items": null,
            "align_self": null,
            "border": null,
            "bottom": null,
            "display": null,
            "flex": null,
            "flex_flow": null,
            "grid_area": null,
            "grid_auto_columns": null,
            "grid_auto_flow": null,
            "grid_auto_rows": null,
            "grid_column": null,
            "grid_gap": null,
            "grid_row": null,
            "grid_template_areas": null,
            "grid_template_columns": null,
            "grid_template_rows": null,
            "height": null,
            "justify_content": null,
            "justify_items": null,
            "left": null,
            "margin": null,
            "max_height": null,
            "max_width": null,
            "min_height": null,
            "min_width": null,
            "object_fit": null,
            "object_position": null,
            "order": null,
            "overflow": null,
            "overflow_x": null,
            "overflow_y": null,
            "padding": null,
            "right": null,
            "top": null,
            "visibility": null,
            "width": null
          }
        },
        "5f30d9fa36d64a0387176f4eb93a32c0": {
          "model_module": "@jupyter-widgets/controls",
          "model_name": "ProgressStyleModel",
          "model_module_version": "1.5.0",
          "state": {
            "_model_module": "@jupyter-widgets/controls",
            "_model_module_version": "1.5.0",
            "_model_name": "ProgressStyleModel",
            "_view_count": null,
            "_view_module": "@jupyter-widgets/base",
            "_view_module_version": "1.2.0",
            "_view_name": "StyleView",
            "bar_color": null,
            "description_width": ""
          }
        },
        "8a6b80d3094a46398ff6f664aa12a74d": {
          "model_module": "@jupyter-widgets/base",
          "model_name": "LayoutModel",
          "model_module_version": "1.2.0",
          "state": {
            "_model_module": "@jupyter-widgets/base",
            "_model_module_version": "1.2.0",
            "_model_name": "LayoutModel",
            "_view_count": null,
            "_view_module": "@jupyter-widgets/base",
            "_view_module_version": "1.2.0",
            "_view_name": "LayoutView",
            "align_content": null,
            "align_items": null,
            "align_self": null,
            "border": null,
            "bottom": null,
            "display": null,
            "flex": null,
            "flex_flow": null,
            "grid_area": null,
            "grid_auto_columns": null,
            "grid_auto_flow": null,
            "grid_auto_rows": null,
            "grid_column": null,
            "grid_gap": null,
            "grid_row": null,
            "grid_template_areas": null,
            "grid_template_columns": null,
            "grid_template_rows": null,
            "height": null,
            "justify_content": null,
            "justify_items": null,
            "left": null,
            "margin": null,
            "max_height": null,
            "max_width": null,
            "min_height": null,
            "min_width": null,
            "object_fit": null,
            "object_position": null,
            "order": null,
            "overflow": null,
            "overflow_x": null,
            "overflow_y": null,
            "padding": null,
            "right": null,
            "top": null,
            "visibility": null,
            "width": null
          }
        },
        "9912e08c1cc543169b6a9cf0414ae8e1": {
          "model_module": "@jupyter-widgets/controls",
          "model_name": "DescriptionStyleModel",
          "model_module_version": "1.5.0",
          "state": {
            "_model_module": "@jupyter-widgets/controls",
            "_model_module_version": "1.5.0",
            "_model_name": "DescriptionStyleModel",
            "_view_count": null,
            "_view_module": "@jupyter-widgets/base",
            "_view_module_version": "1.2.0",
            "_view_name": "StyleView",
            "description_width": ""
          }
        },
        "0e4e835f5bf94de2934900efc6adffe7": {
          "model_module": "@jupyter-widgets/controls",
          "model_name": "HBoxModel",
          "model_module_version": "1.5.0",
          "state": {
            "_dom_classes": [],
            "_model_module": "@jupyter-widgets/controls",
            "_model_module_version": "1.5.0",
            "_model_name": "HBoxModel",
            "_view_count": null,
            "_view_module": "@jupyter-widgets/controls",
            "_view_module_version": "1.5.0",
            "_view_name": "HBoxView",
            "box_style": "",
            "children": [
              "IPY_MODEL_29246877f29944a9892b2736d6c8525c",
              "IPY_MODEL_c3ba0862e0974f3996579348401a1c12",
              "IPY_MODEL_a86223adeedf4590b06c70549382f578"
            ],
            "layout": "IPY_MODEL_bc84c0795e3c4aeface0657e227e47e5"
          }
        },
        "29246877f29944a9892b2736d6c8525c": {
          "model_module": "@jupyter-widgets/controls",
          "model_name": "HTMLModel",
          "model_module_version": "1.5.0",
          "state": {
            "_dom_classes": [],
            "_model_module": "@jupyter-widgets/controls",
            "_model_module_version": "1.5.0",
            "_model_name": "HTMLModel",
            "_view_count": null,
            "_view_module": "@jupyter-widgets/controls",
            "_view_module_version": "1.5.0",
            "_view_name": "HTMLView",
            "description": "",
            "description_tooltip": null,
            "layout": "IPY_MODEL_c75a10b5b05c4ce9ae6ee5e292106261",
            "placeholder": "​",
            "style": "IPY_MODEL_20a09180dafb4ec8a7d3eab383d72f21",
            "value": "Epochs completed: 100%| "
          }
        },
        "c3ba0862e0974f3996579348401a1c12": {
          "model_module": "@jupyter-widgets/controls",
          "model_name": "FloatProgressModel",
          "model_module_version": "1.5.0",
          "state": {
            "_dom_classes": [],
            "_model_module": "@jupyter-widgets/controls",
            "_model_module_version": "1.5.0",
            "_model_name": "FloatProgressModel",
            "_view_count": null,
            "_view_module": "@jupyter-widgets/controls",
            "_view_module_version": "1.5.0",
            "_view_name": "ProgressView",
            "bar_style": "success",
            "description": "",
            "description_tooltip": null,
            "layout": "IPY_MODEL_f596f39794e34153864b62318106b40c",
            "max": 100,
            "min": 0,
            "orientation": "horizontal",
            "style": "IPY_MODEL_60086498ceaa4237bf47773e5b594005",
            "value": 100
          }
        },
        "a86223adeedf4590b06c70549382f578": {
          "model_module": "@jupyter-widgets/controls",
          "model_name": "HTMLModel",
          "model_module_version": "1.5.0",
          "state": {
            "_dom_classes": [],
            "_model_module": "@jupyter-widgets/controls",
            "_model_module_version": "1.5.0",
            "_model_name": "HTMLModel",
            "_view_count": null,
            "_view_module": "@jupyter-widgets/controls",
            "_view_module_version": "1.5.0",
            "_view_name": "HTMLView",
            "description": "",
            "description_tooltip": null,
            "layout": "IPY_MODEL_61b69f01965341b89c61053f808034b8",
            "placeholder": "​",
            "style": "IPY_MODEL_be8ca97fd7314f128891665d1ceb4f85",
            "value": " 100/100 [00:01]"
          }
        },
        "bc84c0795e3c4aeface0657e227e47e5": {
          "model_module": "@jupyter-widgets/base",
          "model_name": "LayoutModel",
          "model_module_version": "1.2.0",
          "state": {
            "_model_module": "@jupyter-widgets/base",
            "_model_module_version": "1.2.0",
            "_model_name": "LayoutModel",
            "_view_count": null,
            "_view_module": "@jupyter-widgets/base",
            "_view_module_version": "1.2.0",
            "_view_name": "LayoutView",
            "align_content": null,
            "align_items": null,
            "align_self": null,
            "border": null,
            "bottom": null,
            "display": null,
            "flex": null,
            "flex_flow": null,
            "grid_area": null,
            "grid_auto_columns": null,
            "grid_auto_flow": null,
            "grid_auto_rows": null,
            "grid_column": null,
            "grid_gap": null,
            "grid_row": null,
            "grid_template_areas": null,
            "grid_template_columns": null,
            "grid_template_rows": null,
            "height": null,
            "justify_content": null,
            "justify_items": null,
            "left": null,
            "margin": null,
            "max_height": null,
            "max_width": null,
            "min_height": null,
            "min_width": null,
            "object_fit": null,
            "object_position": null,
            "order": null,
            "overflow": null,
            "overflow_x": null,
            "overflow_y": null,
            "padding": null,
            "right": null,
            "top": null,
            "visibility": null,
            "width": null
          }
        },
        "c75a10b5b05c4ce9ae6ee5e292106261": {
          "model_module": "@jupyter-widgets/base",
          "model_name": "LayoutModel",
          "model_module_version": "1.2.0",
          "state": {
            "_model_module": "@jupyter-widgets/base",
            "_model_module_version": "1.2.0",
            "_model_name": "LayoutModel",
            "_view_count": null,
            "_view_module": "@jupyter-widgets/base",
            "_view_module_version": "1.2.0",
            "_view_name": "LayoutView",
            "align_content": null,
            "align_items": null,
            "align_self": null,
            "border": null,
            "bottom": null,
            "display": null,
            "flex": null,
            "flex_flow": null,
            "grid_area": null,
            "grid_auto_columns": null,
            "grid_auto_flow": null,
            "grid_auto_rows": null,
            "grid_column": null,
            "grid_gap": null,
            "grid_row": null,
            "grid_template_areas": null,
            "grid_template_columns": null,
            "grid_template_rows": null,
            "height": null,
            "justify_content": null,
            "justify_items": null,
            "left": null,
            "margin": null,
            "max_height": null,
            "max_width": null,
            "min_height": null,
            "min_width": null,
            "object_fit": null,
            "object_position": null,
            "order": null,
            "overflow": null,
            "overflow_x": null,
            "overflow_y": null,
            "padding": null,
            "right": null,
            "top": null,
            "visibility": null,
            "width": null
          }
        },
        "20a09180dafb4ec8a7d3eab383d72f21": {
          "model_module": "@jupyter-widgets/controls",
          "model_name": "DescriptionStyleModel",
          "model_module_version": "1.5.0",
          "state": {
            "_model_module": "@jupyter-widgets/controls",
            "_model_module_version": "1.5.0",
            "_model_name": "DescriptionStyleModel",
            "_view_count": null,
            "_view_module": "@jupyter-widgets/base",
            "_view_module_version": "1.2.0",
            "_view_name": "StyleView",
            "description_width": ""
          }
        },
        "f596f39794e34153864b62318106b40c": {
          "model_module": "@jupyter-widgets/base",
          "model_name": "LayoutModel",
          "model_module_version": "1.2.0",
          "state": {
            "_model_module": "@jupyter-widgets/base",
            "_model_module_version": "1.2.0",
            "_model_name": "LayoutModel",
            "_view_count": null,
            "_view_module": "@jupyter-widgets/base",
            "_view_module_version": "1.2.0",
            "_view_name": "LayoutView",
            "align_content": null,
            "align_items": null,
            "align_self": null,
            "border": null,
            "bottom": null,
            "display": null,
            "flex": null,
            "flex_flow": null,
            "grid_area": null,
            "grid_auto_columns": null,
            "grid_auto_flow": null,
            "grid_auto_rows": null,
            "grid_column": null,
            "grid_gap": null,
            "grid_row": null,
            "grid_template_areas": null,
            "grid_template_columns": null,
            "grid_template_rows": null,
            "height": null,
            "justify_content": null,
            "justify_items": null,
            "left": null,
            "margin": null,
            "max_height": null,
            "max_width": null,
            "min_height": null,
            "min_width": null,
            "object_fit": null,
            "object_position": null,
            "order": null,
            "overflow": null,
            "overflow_x": null,
            "overflow_y": null,
            "padding": null,
            "right": null,
            "top": null,
            "visibility": null,
            "width": null
          }
        },
        "60086498ceaa4237bf47773e5b594005": {
          "model_module": "@jupyter-widgets/controls",
          "model_name": "ProgressStyleModel",
          "model_module_version": "1.5.0",
          "state": {
            "_model_module": "@jupyter-widgets/controls",
            "_model_module_version": "1.5.0",
            "_model_name": "ProgressStyleModel",
            "_view_count": null,
            "_view_module": "@jupyter-widgets/base",
            "_view_module_version": "1.2.0",
            "_view_name": "StyleView",
            "bar_color": null,
            "description_width": ""
          }
        },
        "61b69f01965341b89c61053f808034b8": {
          "model_module": "@jupyter-widgets/base",
          "model_name": "LayoutModel",
          "model_module_version": "1.2.0",
          "state": {
            "_model_module": "@jupyter-widgets/base",
            "_model_module_version": "1.2.0",
            "_model_name": "LayoutModel",
            "_view_count": null,
            "_view_module": "@jupyter-widgets/base",
            "_view_module_version": "1.2.0",
            "_view_name": "LayoutView",
            "align_content": null,
            "align_items": null,
            "align_self": null,
            "border": null,
            "bottom": null,
            "display": null,
            "flex": null,
            "flex_flow": null,
            "grid_area": null,
            "grid_auto_columns": null,
            "grid_auto_flow": null,
            "grid_auto_rows": null,
            "grid_column": null,
            "grid_gap": null,
            "grid_row": null,
            "grid_template_areas": null,
            "grid_template_columns": null,
            "grid_template_rows": null,
            "height": null,
            "justify_content": null,
            "justify_items": null,
            "left": null,
            "margin": null,
            "max_height": null,
            "max_width": null,
            "min_height": null,
            "min_width": null,
            "object_fit": null,
            "object_position": null,
            "order": null,
            "overflow": null,
            "overflow_x": null,
            "overflow_y": null,
            "padding": null,
            "right": null,
            "top": null,
            "visibility": null,
            "width": null
          }
        },
        "be8ca97fd7314f128891665d1ceb4f85": {
          "model_module": "@jupyter-widgets/controls",
          "model_name": "DescriptionStyleModel",
          "model_module_version": "1.5.0",
          "state": {
            "_model_module": "@jupyter-widgets/controls",
            "_model_module_version": "1.5.0",
            "_model_name": "DescriptionStyleModel",
            "_view_count": null,
            "_view_module": "@jupyter-widgets/base",
            "_view_module_version": "1.2.0",
            "_view_name": "StyleView",
            "description_width": ""
          }
        }
      }
    }
  },
  "cells": [
    {
      "cell_type": "code",
      "source": [
        "\n",
        "!pip3 install ipython-autotime\n",
        "!pip3 install pickle5\n",
        "# !pip3 install --upgrade nltk\n",
        "%load_ext autotime\n",
        "\n",
        "import pandas as pd\n",
        "import numpy as np\n",
        "nb_workers=10\n",
        "\n",
        "my_dir = '...'\n",
        "data_path = '...'\n",
        "\n",
        "import os\n",
        "from datetime import datetime\n",
        "import pickle5\n",
        "\n",
        "import os\n",
        "\n",
        "# !pip3 install umap-learn\n",
        "\n",
        "from sklearn.linear_model import LogisticRegression\n",
        "from sklearn import svm\n",
        "from sklearn.model_selection import train_test_split\n",
        "from sklearn.metrics import classification_report, confusion_matrix, accuracy_score, f1_score"
      ],
      "metadata": {
        "colab": {
          "base_uri": "https://localhost:8080/"
        },
        "id": "q-oNeZuJ8O6g",
        "outputId": "57a7af75-15ea-40dc-c527-6ab169ea4192"
      },
      "execution_count": null,
      "outputs": [
        {
          "output_type": "stream",
          "name": "stdout",
          "text": [
            "Looking in indexes: https://pypi.org/simple, https://us-python.pkg.dev/colab-wheels/public/simple/\n",
            "Collecting ipython-autotime\n",
            "  Downloading ipython_autotime-0.3.1-py2.py3-none-any.whl (6.8 kB)\n",
            "Requirement already satisfied: ipython in /usr/local/lib/python3.8/dist-packages (from ipython-autotime) (7.9.0)\n",
            "Requirement already satisfied: traitlets>=4.2 in /usr/local/lib/python3.8/dist-packages (from ipython->ipython-autotime) (5.7.1)\n",
            "Collecting jedi>=0.10\n",
            "  Downloading jedi-0.18.2-py2.py3-none-any.whl (1.6 MB)\n",
            "\u001b[2K     \u001b[90m━━━━━━━━━━━━━━━━━━━━━━━━━━━━━━━━━━━━━━━━\u001b[0m \u001b[32m1.6/1.6 MB\u001b[0m \u001b[31m14.8 MB/s\u001b[0m eta \u001b[36m0:00:00\u001b[0m\n",
            "\u001b[?25hRequirement already satisfied: setuptools>=18.5 in /usr/local/lib/python3.8/dist-packages (from ipython->ipython-autotime) (57.4.0)\n",
            "Requirement already satisfied: backcall in /usr/local/lib/python3.8/dist-packages (from ipython->ipython-autotime) (0.2.0)\n",
            "Requirement already satisfied: pickleshare in /usr/local/lib/python3.8/dist-packages (from ipython->ipython-autotime) (0.7.5)\n",
            "Requirement already satisfied: decorator in /usr/local/lib/python3.8/dist-packages (from ipython->ipython-autotime) (4.4.2)\n",
            "Requirement already satisfied: prompt-toolkit<2.1.0,>=2.0.0 in /usr/local/lib/python3.8/dist-packages (from ipython->ipython-autotime) (2.0.10)\n",
            "Requirement already satisfied: pygments in /usr/local/lib/python3.8/dist-packages (from ipython->ipython-autotime) (2.6.1)\n",
            "Requirement already satisfied: pexpect in /usr/local/lib/python3.8/dist-packages (from ipython->ipython-autotime) (4.8.0)\n",
            "Requirement already satisfied: parso<0.9.0,>=0.8.0 in /usr/local/lib/python3.8/dist-packages (from jedi>=0.10->ipython->ipython-autotime) (0.8.3)\n",
            "Requirement already satisfied: wcwidth in /usr/local/lib/python3.8/dist-packages (from prompt-toolkit<2.1.0,>=2.0.0->ipython->ipython-autotime) (0.2.5)\n",
            "Requirement already satisfied: six>=1.9.0 in /usr/local/lib/python3.8/dist-packages (from prompt-toolkit<2.1.0,>=2.0.0->ipython->ipython-autotime) (1.15.0)\n",
            "Requirement already satisfied: ptyprocess>=0.5 in /usr/local/lib/python3.8/dist-packages (from pexpect->ipython->ipython-autotime) (0.7.0)\n",
            "Installing collected packages: jedi, ipython-autotime\n",
            "Successfully installed ipython-autotime-0.3.1 jedi-0.18.2\n",
            "Looking in indexes: https://pypi.org/simple, https://us-python.pkg.dev/colab-wheels/public/simple/\n",
            "Collecting pickle5\n",
            "  Downloading pickle5-0.0.11.tar.gz (132 kB)\n",
            "\u001b[2K     \u001b[90m━━━━━━━━━━━━━━━━━━━━━━━━━━━━━━━━━━━━━━━\u001b[0m \u001b[32m132.1/132.1 KB\u001b[0m \u001b[31m2.4 MB/s\u001b[0m eta \u001b[36m0:00:00\u001b[0m\n",
            "\u001b[?25h  Preparing metadata (setup.py) ... \u001b[?25l\u001b[?25hdone\n",
            "Building wheels for collected packages: pickle5\n",
            "  Building wheel for pickle5 (setup.py) ... \u001b[?25l\u001b[?25hdone\n",
            "  Created wheel for pickle5: filename=pickle5-0.0.11-cp38-cp38-linux_x86_64.whl size=236289 sha256=5c9c77e360770b312c8a1c2d9896eabc6576912fc06ce1b4e725d4af6b6a6324\n",
            "  Stored in directory: /root/.cache/pip/wheels/25/d4/61/dbd8edd1a0d656be7b4267c85db3b61951eb60016a0154a122\n",
            "Successfully built pickle5\n",
            "Installing collected packages: pickle5\n",
            "Successfully installed pickle5-0.0.11\n",
            "time: 2.5 s (started: 2023-01-14 13:46:04 +00:00)\n"
          ]
        }
      ]
    },
    {
      "cell_type": "markdown",
      "source": [
        "## Validation on Congresspeople"
      ],
      "metadata": {
        "id": "8F27ZkktalpU"
      }
    },
    {
      "cell_type": "code",
      "execution_count": null,
      "metadata": {
        "colab": {
          "base_uri": "https://localhost:8080/"
        },
        "id": "-Uy3M7KO8Ixz",
        "outputId": "fda29e17-8fbf-428b-8549-035acd12670f"
      },
      "outputs": [
        {
          "output_type": "stream",
          "name": "stdout",
          "text": [
            "time: 2.29 s (started: 2022-07-06 12:39:19 +00:00)\n"
          ]
        }
      ],
      "source": [
        "# data_users_df=pd.read_pickle('/content/drive/Shareddrives/Echo Chamber Project 2022/Datasets/Congress Tweets Labels/complete_members_sen_cong.pickle')\n",
        "data_users_df = pd.read_hdf('/content/drive/Shareddrives/Echo Chamber Project 2022/Datasets/congresspeople_list.hdf')\n",
        "data_users_df=data_users_df[data_users_df['average_embedding'].map(len)>2]\n",
        "data_users_df=data_users_df[data_users_df['party']!='I']"
      ]
    },
    {
      "cell_type": "code",
      "source": [
        "X_train, X_test, y_train, y_test = train_test_split(data_users_df['average_embedding'], data_users_df['party'],test_size=0.5, random_state=1)\n",
        "# clf = LogisticRegression()\n",
        "clf = svm.LinearSVC()\n",
        "clf.fit(list(X_train), y_train)\n",
        "pred = clf.predict(list(X_test))\n",
        "print(classification_report(y_test, pred))"
      ],
      "metadata": {
        "colab": {
          "base_uri": "https://localhost:8080/"
        },
        "id": "bHKGpTo-8Y7_",
        "outputId": "61f3ce92-ddbc-4d1a-d124-9ae2059f849f"
      },
      "execution_count": null,
      "outputs": [
        {
          "output_type": "stream",
          "name": "stdout",
          "text": [
            "              precision    recall  f1-score   support\n",
            "\n",
            "           D       0.95      0.91      0.93       133\n",
            "           R       0.92      0.96      0.94       136\n",
            "\n",
            "    accuracy                           0.93       269\n",
            "   macro avg       0.93      0.93      0.93       269\n",
            "weighted avg       0.93      0.93      0.93       269\n",
            "\n",
            "time: 71.9 ms (started: 2022-07-06 12:40:30 +00:00)\n"
          ]
        }
      ]
    },
    {
      "cell_type": "code",
      "source": [
        "X_train, X_test, y_train, y_test = train_test_split(data_users_df['average_embedding'], data_users_df['party'],test_size=0.3, random_state=1)\n",
        "\n",
        "import umap.umap_ as umap\n",
        "manifold = umap.UMAP(n_components=100,\n",
        "                  n_neighbors = 15,    \n",
        "                  metric='cosine', verbose=True, \n",
        "                  random_state=1).fit(list(X_train))\n",
        "X_train = manifold.transform(list(X_train))\n",
        "X_test = manifold.transform(list(X_test))\n",
        "\n",
        "clf = LogisticRegression()\n",
        "clf = svm.LinearSVC()\n",
        "clf.fit(list(X_train), y_train)\n",
        "pred = clf.predict(list(X_test))\n",
        "print(classification_report(y_test, pred))"
      ],
      "metadata": {
        "colab": {
          "base_uri": "https://localhost:8080/",
          "height": 413,
          "referenced_widgets": [
            "7c59ea93e231466593358bd4133b34fb",
            "a9968b2cf0264600b42cd988784641dd",
            "b28e46db8cd44446a187bddd14856f80",
            "460c04213f78479eb127eb411c9fbc1a",
            "737818b8f93546ca953f4d6190bf8cdb",
            "f9405bb70440479797e4ea4c6902b4e4",
            "2936ae029b144e759616ba7596c2eb7a",
            "2f87c6f8062d439cbe21d993cce8e5e4",
            "5f30d9fa36d64a0387176f4eb93a32c0",
            "8a6b80d3094a46398ff6f664aa12a74d",
            "9912e08c1cc543169b6a9cf0414ae8e1",
            "0e4e835f5bf94de2934900efc6adffe7",
            "29246877f29944a9892b2736d6c8525c",
            "c3ba0862e0974f3996579348401a1c12",
            "a86223adeedf4590b06c70549382f578",
            "bc84c0795e3c4aeface0657e227e47e5",
            "c75a10b5b05c4ce9ae6ee5e292106261",
            "20a09180dafb4ec8a7d3eab383d72f21",
            "f596f39794e34153864b62318106b40c",
            "60086498ceaa4237bf47773e5b594005",
            "61b69f01965341b89c61053f808034b8",
            "be8ca97fd7314f128891665d1ceb4f85"
          ]
        },
        "id": "ogNnFmkv9an3",
        "outputId": "388bad98-50b8-4a6f-b091-e97882f37333"
      },
      "execution_count": null,
      "outputs": [
        {
          "output_type": "stream",
          "name": "stdout",
          "text": [
            "UMAP(angular_rp_forest=True, metric='cosine', n_components=100, random_state=1, verbose=True)\n",
            "Wed Jun 29 10:27:34 2022 Construct fuzzy simplicial set\n",
            "Wed Jun 29 10:27:34 2022 Finding Nearest Neighbors\n",
            "Wed Jun 29 10:27:34 2022 Finished Nearest Neighbor Search\n",
            "Wed Jun 29 10:27:34 2022 Construct embedding\n"
          ]
        },
        {
          "output_type": "display_data",
          "data": {
            "text/plain": [
              "Epochs completed:   0%|            0/500 [00:00]"
            ],
            "application/vnd.jupyter.widget-view+json": {
              "version_major": 2,
              "version_minor": 0,
              "model_id": "7c59ea93e231466593358bd4133b34fb"
            }
          },
          "metadata": {}
        },
        {
          "output_type": "stream",
          "name": "stdout",
          "text": [
            "Wed Jun 29 10:27:38 2022 Finished embedding\n"
          ]
        },
        {
          "output_type": "display_data",
          "data": {
            "text/plain": [
              "Epochs completed:   0%|            0/100 [00:00]"
            ],
            "application/vnd.jupyter.widget-view+json": {
              "version_major": 2,
              "version_minor": 0,
              "model_id": "0e4e835f5bf94de2934900efc6adffe7"
            }
          },
          "metadata": {}
        },
        {
          "output_type": "stream",
          "name": "stdout",
          "text": [
            "              precision    recall  f1-score   support\n",
            "\n",
            "           D       0.82      0.94      0.87        81\n",
            "           R       0.92      0.78      0.85        77\n",
            "\n",
            "    accuracy                           0.86       158\n",
            "   macro avg       0.87      0.86      0.86       158\n",
            "weighted avg       0.87      0.86      0.86       158\n",
            "\n",
            "time: 10.9 s (started: 2022-06-29 10:27:34 +00:00)\n"
          ]
        },
        {
          "output_type": "stream",
          "name": "stderr",
          "text": [
            "/usr/local/lib/python3.7/dist-packages/sklearn/svm/_base.py:1208: ConvergenceWarning: Liblinear failed to converge, increase the number of iterations.\n",
            "  ConvergenceWarning,\n"
          ]
        }
      ]
    },
    {
      "cell_type": "markdown",
      "source": [
        "## Pairwise Separability for Hashtag Users"
      ],
      "metadata": {
        "id": "6ogQPAoAbEjb"
      }
    },
    {
      "cell_type": "code",
      "source": [
        "from google.colab import drive\n",
        "drive.mount('/content/drive')"
      ],
      "metadata": {
        "colab": {
          "base_uri": "https://localhost:8080/"
        },
        "id": "xk1-PCgStzfr",
        "outputId": "958a5a8d-1682-49e3-d9c3-e0f2b3463c00"
      },
      "execution_count": null,
      "outputs": [
        {
          "output_type": "stream",
          "name": "stdout",
          "text": [
            "Mounted at /content/drive\n",
            "time: 23.8 s (started: 2023-01-14 13:47:33 +00:00)\n"
          ]
        }
      ]
    },
    {
      "cell_type": "code",
      "source": [
        "from pandas.core.common import random_state\n",
        "user_list_df = pd.read_hdf('/content/drive/Shareddrives/Echo Chamber Project 2022/Datasets/User_lists/hashtag_users_list.hdf')\n",
        "user_list_df_=user_list_df[user_list_df['average_embedding'].map(len)>2]\n",
        "\n",
        "user_list_df__=user_list_df_[user_list_df_['hashtag']!='Anti-Abortion'].groupby('hashtag', group_keys=False).apply(lambda x: x.sample(1500,random_state=1))\n",
        "user_list_df_=pd.concat([user_list_df__,user_list_df_[user_list_df_['hashtag']=='Anti-Abortion']])\n",
        "\n",
        "user_list_df_['hashtag'].value_counts()"
      ],
      "metadata": {
        "colab": {
          "base_uri": "https://localhost:8080/"
        },
        "id": "jTLhtvLnbOE7",
        "outputId": "5718490f-adb0-449f-b5d7-3b13122fc607"
      },
      "execution_count": null,
      "outputs": [
        {
          "output_type": "execute_result",
          "data": {
            "text/plain": [
              "Anti-Gun            1500\n",
              "Pro-Abortion        1500\n",
              "Pro-Gun             1500\n",
              "StandWithUkraine    1500\n",
              "Anti-Abortion        729\n",
              "Name: hashtag, dtype: int64"
            ]
          },
          "metadata": {},
          "execution_count": 6
        },
        {
          "output_type": "stream",
          "name": "stdout",
          "text": [
            "time: 5.47 s (started: 2022-08-05 11:13:34 +00:00)\n"
          ]
        }
      ]
    },
    {
      "cell_type": "code",
      "source": [
        "user_list_df[user_list_df['average_embedding'].map(len)>2]['hashtag'].value_counts()"
      ],
      "metadata": {
        "colab": {
          "base_uri": "https://localhost:8080/"
        },
        "id": "et7x20vAkdtJ",
        "outputId": "0942c14d-081c-4a90-b21a-b335b4cd6fda"
      },
      "execution_count": null,
      "outputs": [
        {
          "output_type": "execute_result",
          "data": {
            "text/plain": [
              "Anti-Gun            5089\n",
              "Pro-Abortion        3793\n",
              "StandWithUkraine    2989\n",
              "Pro-Gun             1909\n",
              "Anti-Abortion        729\n",
              "Name: hashtag, dtype: int64"
            ]
          },
          "metadata": {},
          "execution_count": 5
        },
        {
          "output_type": "stream",
          "name": "stdout",
          "text": [
            "time: 24.9 ms (started: 2022-07-04 16:09:33 +00:00)\n"
          ]
        }
      ]
    },
    {
      "cell_type": "code",
      "source": [
        "from itertools import combinations\n",
        "\n",
        "all_pairs = list(combinations(set(user_list_df_['hashtag']), 2))\n",
        "all_pairs"
      ],
      "metadata": {
        "colab": {
          "base_uri": "https://localhost:8080/"
        },
        "id": "5841Jc7zebDZ",
        "outputId": "d60b64fd-6707-4157-a01d-44b49d315496"
      },
      "execution_count": null,
      "outputs": [
        {
          "output_type": "execute_result",
          "data": {
            "text/plain": [
              "[('Pro-Gun', 'StandWithUkraine'),\n",
              " ('Pro-Gun', 'Pro-Abortion'),\n",
              " ('Pro-Gun', 'Anti-Abortion'),\n",
              " ('Pro-Gun', 'Anti-Gun'),\n",
              " ('StandWithUkraine', 'Pro-Abortion'),\n",
              " ('StandWithUkraine', 'Anti-Abortion'),\n",
              " ('StandWithUkraine', 'Anti-Gun'),\n",
              " ('Pro-Abortion', 'Anti-Abortion'),\n",
              " ('Pro-Abortion', 'Anti-Gun'),\n",
              " ('Anti-Abortion', 'Anti-Gun')]"
            ]
          },
          "metadata": {},
          "execution_count": 7
        },
        {
          "output_type": "stream",
          "name": "stdout",
          "text": [
            "time: 7.3 ms (started: 2022-08-05 11:13:49 +00:00)\n"
          ]
        }
      ]
    },
    {
      "cell_type": "code",
      "source": [
        "for x,y in all_pairs:\n",
        "  user_list_df_x = user_list_df_[(user_list_df_['hashtag']==x) | (user_list_df_['hashtag']==y)]\n",
        "  user_list_df_x = user_list_df_x.drop_duplicates('user_id')\n",
        "  X_train, X_test, y_train, y_test = train_test_split(user_list_df_x['average_embedding'], user_list_df_x['hashtag'],test_size=0.5, random_state=1)\n",
        "  # clf = LogisticRegression()\n",
        "  clf = svm.LinearSVC()\n",
        "  clf.fit(list(X_train), y_train)\n",
        "  pred = clf.predict(list(X_test))\n",
        "  f_x = f1_score(y_test, pred, average='macro')\n",
        "  print(f'{x} vs {y}   f1_score = {f_x}')"
      ],
      "metadata": {
        "colab": {
          "base_uri": "https://localhost:8080/"
        },
        "id": "Ij1WkKaGc7vL",
        "outputId": "4c17386c-50eb-464a-96dc-6752be79eae3"
      },
      "execution_count": null,
      "outputs": [
        {
          "output_type": "stream",
          "name": "stdout",
          "text": [
            "Pro-Gun vs StandWithUkraine   f1_score = 0.8265101902004566\n",
            "Pro-Gun vs Pro-Abortion   f1_score = 0.77484291101214\n",
            "Pro-Gun vs Anti-Abortion   f1_score = 0.6037429532161925\n",
            "Pro-Gun vs Anti-Gun   f1_score = 0.8203553660270078\n",
            "StandWithUkraine vs Pro-Abortion   f1_score = 0.738606853493577\n",
            "StandWithUkraine vs Anti-Abortion   f1_score = 0.8982568896312568\n",
            "StandWithUkraine vs Anti-Gun   f1_score = 0.7661896533102928\n",
            "Pro-Abortion vs Anti-Abortion   f1_score = 0.8676042598626508\n",
            "Pro-Abortion vs Anti-Gun   f1_score = 0.6964970471644689\n",
            "Anti-Abortion vs Anti-Gun   f1_score = 0.9111616244463713\n",
            "time: 1.74 s (started: 2022-08-05 11:14:22 +00:00)\n"
          ]
        }
      ]
    },
    {
      "cell_type": "markdown",
      "source": [
        "## Pairwise Separability for Network Users"
      ],
      "metadata": {
        "id": "NXUeiDILtPH4"
      }
    },
    {
      "cell_type": "code",
      "source": [
        "# topic = 'abortion'\n",
        "# topic = 'gun'\n",
        "topic = 'ukraine'\n",
        "\n",
        "\n",
        "from pandas.core.common import random_state\n",
        "# user_list_df = pd.read_hdf('/content/drive/Shareddrives/Echo Chamber Project 2022/Datasets/User_lists/network_users_list.hdf')\n",
        "user_list_df = pd.read_hdf(f'/content/drive/Shareddrives/Echo Chamber Project 2022/Output/new gun and abortion datasets/echo_chambers_in_{topic}_dataset.hdf')\n",
        "user_list_df_=user_list_df[user_list_df['average_embedding'].map(len)>2]\n",
        "# user_list_df_=user_list_df_[user_list_df_['average_embedding_NoRT'].map(len)>2]\n",
        "\n",
        "user_list_df_=user_list_df_.groupby(topic, group_keys=False).apply(lambda x: x.sample(1500,random_state=1))\n",
        "# user_list_df_=user_list_df_.groupby(topic, group_keys=False).apply(lambda x: x.sample(900,random_state=1))\n",
        "\n",
        "user_list_df_[topic].value_counts()"
      ],
      "metadata": {
        "id": "t19UnWvjtPH6",
        "colab": {
          "base_uri": "https://localhost:8080/"
        },
        "outputId": "10ec1379-12ab-46f5-eae4-db8129bd3f95"
      },
      "execution_count": null,
      "outputs": [
        {
          "output_type": "execute_result",
          "data": {
            "text/plain": [
              "0    1500\n",
              "1    1500\n",
              "Name: ukraine, dtype: int64"
            ]
          },
          "metadata": {},
          "execution_count": 4
        },
        {
          "output_type": "stream",
          "name": "stdout",
          "text": [
            "time: 3.47 s (started: 2023-01-14 13:48:00 +00:00)\n"
          ]
        }
      ]
    },
    {
      "cell_type": "code",
      "source": [
        "X_train, X_test, y_train, y_test = train_test_split(user_list_df_['average_embedding'], user_list_df_[topic],test_size=0.5, random_state=1)\n",
        "# clf = LogisticRegression()\n",
        "clf = svm.LinearSVC()\n",
        "# clf = svm.SVC()\n",
        "\n",
        "\n",
        "clf.fit(list(X_train), y_train)\n",
        "pred = clf.predict(list(X_test))\n",
        "f_x = f1_score(y_test, pred, average='macro')\n",
        "print(f'0 vs 1   f1_score = {f_x}')"
      ],
      "metadata": {
        "colab": {
          "base_uri": "https://localhost:8080/"
        },
        "outputId": "c035dfb2-3f1d-4426-bd7d-c1cccbd06a8d",
        "id": "Lb4iNhHitPH7"
      },
      "execution_count": null,
      "outputs": [
        {
          "output_type": "stream",
          "name": "stdout",
          "text": [
            "0 vs 1   f1_score = 0.920663810563847\n",
            "time: 156 ms (started: 2022-08-02 12:18:26 +00:00)\n"
          ]
        }
      ]
    },
    {
      "cell_type": "markdown",
      "source": [
        "## Chamber-Wise Separability"
      ],
      "metadata": {
        "id": "tKiQmXn_QwvM"
      }
    },
    {
      "cell_type": "code",
      "source": [
        "topics = ['abortion','gun','ukraine']\n",
        "\n",
        "from itertools import combinations\n",
        "\n",
        "all_pairs = list(combinations(topics, 2))"
      ],
      "metadata": {
        "id": "U4duqi7DQ1r_"
      },
      "execution_count": null,
      "outputs": []
    },
    {
      "cell_type": "code",
      "source": [
        "import pandas as pd\n",
        "pd.options.mode.chained_assignment = None"
      ],
      "metadata": {
        "colab": {
          "base_uri": "https://localhost:8080/"
        },
        "id": "nP35GcW9SgAH",
        "outputId": "bea471fd-0812-4d84-803f-2ddfbb5aa9d6"
      },
      "execution_count": null,
      "outputs": [
        {
          "output_type": "stream",
          "name": "stdout",
          "text": [
            "time: 1.61 ms (started: 2022-08-02 17:31:55 +00:00)\n"
          ]
        }
      ]
    },
    {
      "cell_type": "code",
      "source": [
        "for topic_a, topic_b in all_pairs:\n",
        "  user_list_df_a = pd.read_hdf(f'/content/drive/Shareddrives/Echo Chamber Project 2022/Output/new gun and abortion datasets/echo_chambers_in_{topic_a}_dataset.hdf')\n",
        "  user_list_df_a=user_list_df_a[user_list_df_a['average_embedding'].map(len)>2]\n",
        "  user_list_df_a=user_list_df_a.groupby(topic_a, group_keys=False).apply(lambda x: x.sample(1500,random_state=2))\n",
        "  user_list_df_b = pd.read_hdf(f'/content/drive/Shareddrives/Echo Chamber Project 2022/Output/new gun and abortion datasets/echo_chambers_in_{topic_b}_dataset.hdf')\n",
        "  user_list_df_b=user_list_df_b[user_list_df_b['average_embedding'].map(len)>2]\n",
        "  user_list_df_b=user_list_df_b.groupby(topic_b, group_keys=False).apply(lambda x: x.sample(1500,random_state=2))\n",
        "\n",
        "  for x,y in [(0, 0), (1, 1), (0, 1), (1, 0)]:\n",
        "    user_list_df_a_ = user_list_df_a[user_list_df_a[topic_a]==x]#.rename({topic_a:'chamber'},axis=1)\n",
        "    user_list_df_a_['chamber']=0\n",
        "    user_list_df_b_ = user_list_df_b[user_list_df_b[topic_b]==y]#.rename({topic_b:'chamber'},axis=1)\n",
        "    user_list_df_b_['chamber']=1\n",
        "    user_list_df_x = pd.concat([user_list_df_a_,user_list_df_b_])\n",
        "    X_train, X_test, y_train, y_test = train_test_split(user_list_df_x['average_embedding'], user_list_df_x['chamber'],test_size=0.5, random_state=1)\n",
        "    # clf = LogisticRegression()\n",
        "    clf = svm.LinearSVC()\n",
        "    clf.fit(list(X_train), y_train)\n",
        "    pred = clf.predict(list(X_test))\n",
        "    f_x = f1_score(y_test, pred, average='macro')\n",
        "    # clf.fit(list(user_list_df_x['average_embedding']), user_list_df_x['chamber'])\n",
        "    # pred = clf.predict(list(user_list_df_x['average_embedding']))\n",
        "    # f_x = f1_score(user_list_df_x['chamber'], pred, average='macro')\n",
        "    print(f'{topic_a}{x} vs {topic_b}{y}   f1_score = {f_x}')"
      ],
      "metadata": {
        "id": "mtdXrq5yRlHf"
      },
      "execution_count": null,
      "outputs": []
    },
    {
      "cell_type": "markdown",
      "source": [
        "# Variance Calculation"
      ],
      "metadata": {
        "id": "A1xdh2eX-VYQ"
      }
    },
    {
      "cell_type": "code",
      "source": [
        "# graph_colors_dict = {1:'blue',0:'red'}\n",
        "# name_dict = {1:'Chamber A',0:'Chamber B'}\n",
        "\n",
        "graph_colors_dict = {0:'blue',1:'red'}\n",
        "name_dict = {0:'Chamber A',1:'Chamber B'}\n",
        "graph_colors_dict = {'StandWithUkraine':'yellow','Pro-Gun':'red','Anti-Gun':'blue','Pro-Abortion':'deepskyblue','Anti-Abortion':'deeppink'}\n",
        "\n",
        "data = [[2,2],[0,0]]\n",
        "\n",
        "print(np.std(data,axis=0).mean())"
      ],
      "metadata": {
        "colab": {
          "base_uri": "https://localhost:8080/"
        },
        "id": "6mOoUkfUJyo-",
        "outputId": "c6307e2a-c0cf-4a26-e5f8-642ec859bd52"
      },
      "execution_count": null,
      "outputs": [
        {
          "output_type": "stream",
          "name": "stdout",
          "text": [
            "1.0\n",
            "time: 19.1 ms (started: 2022-08-05 11:22:40 +00:00)\n"
          ]
        }
      ]
    },
    {
      "cell_type": "code",
      "source": [
        "def get_bootstrap_confidence_variance(df_x, column_x, confidence_x, sample_size_x):\n",
        "  values = [np.var(list(df_x.sample(n=sample_size_x, random_state=i, replace=True)[column_x]),axis=0).mean() for i in range(1000)] \n",
        "  return np.percentile(values,[100*(1-confidence_x)/2,100*(1-(1-confidence_x)/2)]) \n",
        "# array([-0.13559955, 0.26480175])"
      ],
      "metadata": {
        "colab": {
          "base_uri": "https://localhost:8080/"
        },
        "id": "wCzr9Knq3T_O",
        "outputId": "d393a764-3047-4786-ead0-bfce1b8bd935"
      },
      "execution_count": null,
      "outputs": [
        {
          "output_type": "stream",
          "name": "stdout",
          "text": [
            "time: 5.51 ms (started: 2022-08-05 11:16:50 +00:00)\n"
          ]
        }
      ]
    },
    {
      "cell_type": "code",
      "source": [
        "# group_column = topic\n",
        "group_column = 'hashtag'\n",
        "\n",
        "CIs={}\n",
        "for hashtag_x in list(set(user_list_df_[group_column])):\n",
        "  print(f'std for {hashtag_x} is:')\n",
        "  data = user_list_df_[user_list_df_[group_column]==hashtag_x]\n",
        "  print(np.var(list(user_list_df_[user_list_df_[group_column]==hashtag_x]['average_embedding']),axis=0).mean())\n",
        "  CI_x = get_bootstrap_confidence_variance(df_x = data, column_x = 'average_embedding', confidence_x = 0.95, sample_size_x =700)\n",
        "  CIs.update({hashtag_x:CI_x})\n",
        "  print(CI_x)\n",
        "\n",
        "CIs = pd.DataFrame.from_dict(CIs).T.reset_index().rename({'index':group_column,0:'LL',1:'UL'},axis=1)\n",
        "CIs['mean'] = (CIs['LL']+CIs['UL'])/2\n",
        "CIs['color']=CIs[group_column].map(graph_colors_dict)\n",
        "CIs"
      ],
      "metadata": {
        "colab": {
          "base_uri": "https://localhost:8080/",
          "height": 484
        },
        "id": "qJd4AbN4GT3a",
        "outputId": "7ca838e3-2297-4c8c-b714-159736d61a5e"
      },
      "execution_count": null,
      "outputs": [
        {
          "output_type": "stream",
          "name": "stdout",
          "text": [
            "std for Pro-Gun is:\n",
            "5.596003e-05\n",
            "[5.19680608e-05 5.96345682e-05]\n",
            "std for StandWithUkraine is:\n",
            "0.00010434544\n",
            "[9.83363676e-05 1.10271466e-04]\n",
            "std for Pro-Abortion is:\n",
            "8.583595e-05\n",
            "[8.13732999e-05 9.05636141e-05]\n",
            "std for Anti-Abortion is:\n",
            "5.251726e-05\n",
            "[4.93502768e-05 5.58143253e-05]\n",
            "std for Anti-Gun is:\n",
            "8.436641e-05\n",
            "[7.90638183e-05 8.98642771e-05]\n"
          ]
        },
        {
          "output_type": "execute_result",
          "data": {
            "text/plain": [
              "            hashtag        LL        UL      mean        color\n",
              "0           Pro-Gun  0.000052  0.000060  0.000056          red\n",
              "1  StandWithUkraine  0.000098  0.000110  0.000104       yellow\n",
              "2      Pro-Abortion  0.000081  0.000091  0.000086  deepskyblue\n",
              "3     Anti-Abortion  0.000049  0.000056  0.000053     deeppink\n",
              "4          Anti-Gun  0.000079  0.000090  0.000084         blue"
            ],
            "text/html": [
              "\n",
              "  <div id=\"df-b0dc489d-1082-4625-8415-a2b155d00ca6\">\n",
              "    <div class=\"colab-df-container\">\n",
              "      <div>\n",
              "<style scoped>\n",
              "    .dataframe tbody tr th:only-of-type {\n",
              "        vertical-align: middle;\n",
              "    }\n",
              "\n",
              "    .dataframe tbody tr th {\n",
              "        vertical-align: top;\n",
              "    }\n",
              "\n",
              "    .dataframe thead th {\n",
              "        text-align: right;\n",
              "    }\n",
              "</style>\n",
              "<table border=\"1\" class=\"dataframe\">\n",
              "  <thead>\n",
              "    <tr style=\"text-align: right;\">\n",
              "      <th></th>\n",
              "      <th>hashtag</th>\n",
              "      <th>LL</th>\n",
              "      <th>UL</th>\n",
              "      <th>mean</th>\n",
              "      <th>color</th>\n",
              "    </tr>\n",
              "  </thead>\n",
              "  <tbody>\n",
              "    <tr>\n",
              "      <th>0</th>\n",
              "      <td>Pro-Gun</td>\n",
              "      <td>0.000052</td>\n",
              "      <td>0.000060</td>\n",
              "      <td>0.000056</td>\n",
              "      <td>red</td>\n",
              "    </tr>\n",
              "    <tr>\n",
              "      <th>1</th>\n",
              "      <td>StandWithUkraine</td>\n",
              "      <td>0.000098</td>\n",
              "      <td>0.000110</td>\n",
              "      <td>0.000104</td>\n",
              "      <td>yellow</td>\n",
              "    </tr>\n",
              "    <tr>\n",
              "      <th>2</th>\n",
              "      <td>Pro-Abortion</td>\n",
              "      <td>0.000081</td>\n",
              "      <td>0.000091</td>\n",
              "      <td>0.000086</td>\n",
              "      <td>deepskyblue</td>\n",
              "    </tr>\n",
              "    <tr>\n",
              "      <th>3</th>\n",
              "      <td>Anti-Abortion</td>\n",
              "      <td>0.000049</td>\n",
              "      <td>0.000056</td>\n",
              "      <td>0.000053</td>\n",
              "      <td>deeppink</td>\n",
              "    </tr>\n",
              "    <tr>\n",
              "      <th>4</th>\n",
              "      <td>Anti-Gun</td>\n",
              "      <td>0.000079</td>\n",
              "      <td>0.000090</td>\n",
              "      <td>0.000084</td>\n",
              "      <td>blue</td>\n",
              "    </tr>\n",
              "  </tbody>\n",
              "</table>\n",
              "</div>\n",
              "      <button class=\"colab-df-convert\" onclick=\"convertToInteractive('df-b0dc489d-1082-4625-8415-a2b155d00ca6')\"\n",
              "              title=\"Convert this dataframe to an interactive table.\"\n",
              "              style=\"display:none;\">\n",
              "        \n",
              "  <svg xmlns=\"http://www.w3.org/2000/svg\" height=\"24px\"viewBox=\"0 0 24 24\"\n",
              "       width=\"24px\">\n",
              "    <path d=\"M0 0h24v24H0V0z\" fill=\"none\"/>\n",
              "    <path d=\"M18.56 5.44l.94 2.06.94-2.06 2.06-.94-2.06-.94-.94-2.06-.94 2.06-2.06.94zm-11 1L8.5 8.5l.94-2.06 2.06-.94-2.06-.94L8.5 2.5l-.94 2.06-2.06.94zm10 10l.94 2.06.94-2.06 2.06-.94-2.06-.94-.94-2.06-.94 2.06-2.06.94z\"/><path d=\"M17.41 7.96l-1.37-1.37c-.4-.4-.92-.59-1.43-.59-.52 0-1.04.2-1.43.59L10.3 9.45l-7.72 7.72c-.78.78-.78 2.05 0 2.83L4 21.41c.39.39.9.59 1.41.59.51 0 1.02-.2 1.41-.59l7.78-7.78 2.81-2.81c.8-.78.8-2.07 0-2.86zM5.41 20L4 18.59l7.72-7.72 1.47 1.35L5.41 20z\"/>\n",
              "  </svg>\n",
              "      </button>\n",
              "      \n",
              "  <style>\n",
              "    .colab-df-container {\n",
              "      display:flex;\n",
              "      flex-wrap:wrap;\n",
              "      gap: 12px;\n",
              "    }\n",
              "\n",
              "    .colab-df-convert {\n",
              "      background-color: #E8F0FE;\n",
              "      border: none;\n",
              "      border-radius: 50%;\n",
              "      cursor: pointer;\n",
              "      display: none;\n",
              "      fill: #1967D2;\n",
              "      height: 32px;\n",
              "      padding: 0 0 0 0;\n",
              "      width: 32px;\n",
              "    }\n",
              "\n",
              "    .colab-df-convert:hover {\n",
              "      background-color: #E2EBFA;\n",
              "      box-shadow: 0px 1px 2px rgba(60, 64, 67, 0.3), 0px 1px 3px 1px rgba(60, 64, 67, 0.15);\n",
              "      fill: #174EA6;\n",
              "    }\n",
              "\n",
              "    [theme=dark] .colab-df-convert {\n",
              "      background-color: #3B4455;\n",
              "      fill: #D2E3FC;\n",
              "    }\n",
              "\n",
              "    [theme=dark] .colab-df-convert:hover {\n",
              "      background-color: #434B5C;\n",
              "      box-shadow: 0px 1px 3px 1px rgba(0, 0, 0, 0.15);\n",
              "      filter: drop-shadow(0px 1px 2px rgba(0, 0, 0, 0.3));\n",
              "      fill: #FFFFFF;\n",
              "    }\n",
              "  </style>\n",
              "\n",
              "      <script>\n",
              "        const buttonEl =\n",
              "          document.querySelector('#df-b0dc489d-1082-4625-8415-a2b155d00ca6 button.colab-df-convert');\n",
              "        buttonEl.style.display =\n",
              "          google.colab.kernel.accessAllowed ? 'block' : 'none';\n",
              "\n",
              "        async function convertToInteractive(key) {\n",
              "          const element = document.querySelector('#df-b0dc489d-1082-4625-8415-a2b155d00ca6');\n",
              "          const dataTable =\n",
              "            await google.colab.kernel.invokeFunction('convertToInteractive',\n",
              "                                                     [key], {});\n",
              "          if (!dataTable) return;\n",
              "\n",
              "          const docLinkHtml = 'Like what you see? Visit the ' +\n",
              "            '<a target=\"_blank\" href=https://colab.research.google.com/notebooks/data_table.ipynb>data table notebook</a>'\n",
              "            + ' to learn more about interactive tables.';\n",
              "          element.innerHTML = '';\n",
              "          dataTable['output_type'] = 'display_data';\n",
              "          await google.colab.output.renderOutput(dataTable, element);\n",
              "          const docLink = document.createElement('div');\n",
              "          docLink.innerHTML = docLinkHtml;\n",
              "          element.appendChild(docLink);\n",
              "        }\n",
              "      </script>\n",
              "    </div>\n",
              "  </div>\n",
              "  "
            ]
          },
          "metadata": {},
          "execution_count": 14
        },
        {
          "output_type": "stream",
          "name": "stdout",
          "text": [
            "time: 11.6 s (started: 2022-08-05 11:22:44 +00:00)\n"
          ]
        }
      ]
    },
    {
      "cell_type": "code",
      "source": [
        "import matplotlib.pyplot as plt\n",
        "y_dummy_dict = {'StandWithUkraine':3,'Pro-Gun':2,'Anti-Gun':4,'Pro-Abortion':5,'Anti-Abortion':1}\n",
        "CIs['y_dummy']=CIs[group_column].map(y_dummy_dict)\n",
        "plt.figure(figsize=(8,2.5))\n",
        "\n",
        "plt.tick_params(left = False)\n",
        "ax = plt.gca()\n",
        "for i, txt in enumerate(CIs[group_column]):\n",
        "    ax.errorbar(x=CIs['mean'][i]*100000, y = CIs['y_dummy'][i], xerr=(CIs['mean'][i]-CIs['LL'][i])*100000,markersize='4',capsize=4, elinewidth=2, yerr=None, fmt='o',color='none',ecolor=CIs['color'][i])#,markerfacecolor=CIs['color'],markeredgecolor=CIs['color'], color=CIs['color'])\n",
        "    ax.annotate(txt, ((CIs['mean'][i]-0.0000007*len(txt))*100000, CIs['y_dummy'][i]+0.2),rotation=0)#,color=CIs['color'][i])\n",
        "plt.ylim(-0.00,6)\n",
        "plt.xlim(0,12)\n",
        "ax.axes.yaxis.set_ticklabels([])\n",
        "plt.title('Diversity of Users per Hashtag',fontsize=20)\n",
        "plt.savefig(my_dir+\"Charts/HashtagUsers_variance\"+\".png\", bbox_inches = 'tight',format=\"png\", dpi=650)"
      ],
      "metadata": {
        "colab": {
          "base_uri": "https://localhost:8080/",
          "height": 222
        },
        "id": "C4doabDP-TMd",
        "outputId": "33b49b84-e755-4175-9183-ef56fcc99e79"
      },
      "execution_count": null,
      "outputs": [
        {
          "output_type": "display_data",
          "data": {
            "text/plain": [
              "<Figure size 576x180 with 1 Axes>"
            ],
            "image/png": "[encoded data removed]"
          },
          "metadata": {
            "needs_background": "light"
          }
        },
        {
          "output_type": "stream",
          "name": "stdout",
          "text": [
            "time: 2.57 s (started: 2022-08-05 11:38:21 +00:00)\n"
          ]
        }
      ]
    }
  ]
}